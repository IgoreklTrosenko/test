{
 "cells": [
  {
   "cell_type": "markdown",
   "id": "64eb5db5",
   "metadata": {},
   "source": [
    "1) Ваша задача — построить модель[1] , которая может предсказывать координату y.\n",
    "Вы можете пройти тесты, если прогнозируемые координаты y находятся в пределах погрешности.\n",
    "\n",
    "Вы получите комплект train, который нужно использовать для сборки модели.\n",
    "После того, как вы создадите модель, тесты будут вызывать функцию predict и передавать ей x.\n",
    "\n",
    "Ошибка будет рассчитана с помощью RMSE .\n",
    "Нельзя использовать библиотеки: sklearn, pandas, tensorflow, numpy, scipy\n",
    "example_train_set = [(0, 1),\n",
    "    (2, 2),\n",
    "    (4, 3),\n",
    "    (9, 8),\n",
    "    (3, 5)]\n",
    "\n",
    "predicted = [dm.predict(point[0]) for point in example_test_set]\n",
    "\n",
    "Объяснение\n",
    "[1] Модель интеллектуального анализа данных создается путем применения алгоритма к данным, но это больше, чем алгоритм или контейнер метаданных: это набор данных, статистики и шаблоны, которые можно применять к новым данным для создания прогнозов и выводов о взаимосвязях."
   ]
  },
  {
   "cell_type": "code",
   "execution_count": 2,
   "id": "5aafdf46",
   "metadata": {},
   "outputs": [
    {
     "name": "stdout",
     "output_type": "stream",
     "text": [
      "4.871681415929204\n"
     ]
    }
   ],
   "source": [
    "def predict(charx,example_train_set=[(0, 1),\n",
    "      (2, 2),\n",
    "      (4, 3),\n",
    "      (9, 8),\n",
    "      (3, 5)]):\n",
    "  x,y,n=0,0,len(example_train_set)\n",
    "  xy,x2,y2=0,0,0\n",
    "  for i in range(len(example_train_set)):\n",
    "    x+=example_train_set[i][0]\n",
    "    y+=example_train_set[i][1]\n",
    "    x2+=example_train_set[i][0]**2\n",
    "    y2+=example_train_set[i][1]**2\n",
    "    xy+=example_train_set[i][1]*example_train_set[i][0]\n",
    "  deltaA,deltaB,delta = xy*n-x*y,x2*y-y2*x,x2*n-x*x\n",
    "  a,b=deltaA/delta,deltaB/delta\n",
    "  Y=a*charx+b\n",
    "  return(Y)\n",
    "\n",
    "print(predict(5))"
   ]
  },
  {
   "cell_type": "markdown",
   "id": "03c9a850",
   "metadata": {},
   "source": [
    "2) Простое число-близнец — это простое число, которое отличается от другого простого числа на 2. \n",
    "Напишите функцию с именем prime, которая принимает int параметр и возвращает значение true,\n",
    " если оно является простым числом-близнецом, иначе false.\n",
    "\n",
    "Примеры\n",
    "5- простое число\n",
    "5 + 2 = 7, тоже простое \n",
    "5 - 2 = 3, тоже простое\n",
    "Тогда 5 – число близнец\n"
   ]
  },
  {
   "cell_type": "code",
   "execution_count": 3,
   "id": "179805e9",
   "metadata": {},
   "outputs": [
    {
     "name": "stdout",
     "output_type": "stream",
     "text": [
      "True\n"
     ]
    }
   ],
   "source": [
    "def prime(x):\n",
    "  def prostoe(x):\n",
    "    if ((x > 1) and (x == int(x))):\n",
    "      i=1\n",
    "      while i < x and i>= 1:\n",
    "        i+=1\n",
    "        if x%i == 0 and i != x:\n",
    "          return False\n",
    "        return x\n",
    "  if prostoe(x) != False and (((prostoe(x+2) != False)) or ((prostoe(x-2) != False))):\n",
    "    print(True)\n",
    "  else:\n",
    "    print(False)\n",
    "prime(13)\n"
   ]
  },
  {
   "cell_type": "markdown",
   "id": "021b7c5b",
   "metadata": {},
   "source": [
    "3) Целочисленное разделение n представляет собой слабо убывающий список положительных целых чисел, сумма которых равна n.\n",
    "\n",
    "Например, есть 3 целочисленных разделов по 3:\n",
    "\n",
    "[3], [2,1], [1,1,1].\n",
    "Напишите функцию, которая возвращает количество целочисленных разделов n. Функция должна уметь находить количество целочисленных разделов n менее 100.\n"
   ]
  },
  {
   "cell_type": "code",
   "execution_count": 5,
   "id": "5b1feb4e",
   "metadata": {},
   "outputs": [
    {
     "name": "stdout",
     "output_type": "stream",
     "text": [
      "[['8'], ['7', '1'], ['6', '1', '1'], ['5', '1', '1', '1'], ['4', '1', '1', '1', '1'], ['3', '1', '1', '1', '1', '1'], ['2', '1', '1', '1', '1', '1', '1'], ['1', '1', '1', '1', '1', '1', '1', '1']]\n"
     ]
    }
   ],
   "source": [
    "\n",
    "def function(a):\n",
    "    if a >= 100:\n",
    "        break \n",
    "    index = [1]*a\n",
    "    spisok = [1]*a\n",
    "  \n",
    "    for i in range(len(spisok)):\n",
    "        spisok[i] = str(index)\n",
    "        index[0]=index[0]+1\n",
    "        index.pop()\n",
    "    spisok = spisok[::-1]\n",
    "    spisoktwo=[]\n",
    "    otvetochka =[]\n",
    "    for  i in spisok:\n",
    "        spisoktwo.append(i.replace(']','').replace('[','').replace(',',''))\n",
    "    for i in spisoktwo:\n",
    "      otvetochka.append(i.split())\n",
    "    return otvetochka\n",
    "print(function(8))\n"
   ]
  },
  {
   "cell_type": "code",
   "execution_count": null,
   "id": "efcf9848",
   "metadata": {},
   "outputs": [],
   "source": []
  }
 ],
 "metadata": {
  "kernelspec": {
   "display_name": "Python 3 (ipykernel)",
   "language": "python",
   "name": "python3"
  },
  "language_info": {
   "codemirror_mode": {
    "name": "ipython",
    "version": 3
   },
   "file_extension": ".py",
   "mimetype": "text/x-python",
   "name": "python",
   "nbconvert_exporter": "python",
   "pygments_lexer": "ipython3",
   "version": "3.9.12"
  }
 },
 "nbformat": 4,
 "nbformat_minor": 5
}
